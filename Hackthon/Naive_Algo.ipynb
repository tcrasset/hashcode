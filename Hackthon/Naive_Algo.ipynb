{
 "cells": [
  {
   "cell_type": "code",
   "execution_count": 15,
   "metadata": {},
   "outputs": [],
   "source": [
    "import numpy as np\n",
    "import pandas as pd\n",
    "import time\n",
    "import os\n",
    "import sys\n",
    "import matplotlib.pyplot as plt"
   ]
  },
  {
   "cell_type": "markdown",
   "metadata": {},
   "source": [
    "## Utils"
   ]
  },
  {
   "cell_type": "code",
   "execution_count": 16,
   "metadata": {},
   "outputs": [],
   "source": [
    "def read_file(filename: str):\n",
    "    with open(filename) as file:\n",
    "        books_in_library_with_id = []\n",
    "        nb_books_in_library_with_id = []\n",
    "        signup_days_for_library_with_id = []\n",
    "        shipping_speed_for_library_with_id = []\n",
    "        \n",
    "        for idx, line in enumerate(file):\n",
    "            if(idx == 0):\n",
    "                # Start of the file\n",
    "                line_1 = line.replace('\\n', '').split(' ')\n",
    "#                 print(line_1)\n",
    "                nb_books = int(line_1[0])\n",
    "                nb_libraries = int(line_1[1])\n",
    "                nb_days = int(line_1[2])\n",
    "\n",
    "#                 print(nb_books)\n",
    "#                 print(nb_libraries)\n",
    "#                 print(nb_days)\n",
    "            elif(idx == 1):\n",
    "                book_scores_with_id = line.replace('\\n', '').split(' ')\n",
    "                book_scores_with_id = list(map(int,book_scores_with_id))\n",
    "\n",
    "            else:\n",
    "\n",
    "                if(idx % 2 == 0):\n",
    "                    \n",
    "                    #### Per library section\n",
    "                    line_1 = line.replace('\\n', '').split(' ')\n",
    "                    if(line_1[0] == ''):\n",
    "                        break\n",
    "\n",
    "                    nb_books_in_library_with_id.append(int(line_1[0]))\n",
    "                    signup_days_for_library_with_id.append(int(line_1[1]))\n",
    "                    shipping_speed_for_library_with_id.append(int(line_1[2]))\n",
    "                    \n",
    "#                     print(nb_books_in_library_with_id)\n",
    "#                     print(signup_days_for_library_with_id)\n",
    "#                     print(shipping_speed_for_library_with_id)\n",
    "                if(idx % 2 == 1):\n",
    "\n",
    "                    book_ids = line.replace('\\n', '').split(' ')\n",
    "                    if(book_ids[0] == ''):\n",
    "                        break\n",
    "\n",
    "                    book_ids = list(map(int,book_ids))\n",
    "                    books_in_library_with_id.append(book_ids)\n",
    "#                     print(\"book ids : {}\".format(books_in_library_with_id))\n",
    "\n",
    "\n",
    "\n",
    "    return nb_books, \\\n",
    "            nb_libraries, \\\n",
    "            nb_days, \\\n",
    "            nb_books_in_library_with_id, \\\n",
    "            signup_days_for_library_with_id, \\\n",
    "            shipping_speed_for_library_with_id, \\\n",
    "            book_scores_with_id ,\\\n",
    "            books_in_library_with_id"
   ]
  },
  {
   "cell_type": "code",
   "execution_count": 17,
   "metadata": {},
   "outputs": [],
   "source": [
    "def output(lib_ids, book_ids, filename):\n",
    "    with open(filename, \"w\") as file:\n",
    "        for lib_id, ids in zip(lib_ids, book_ids):\n",
    "            line1 = str(lib_id) + \" \" + str(len(ids)) + \"\\n\"\n",
    "            file.write(line1)\n",
    "            line2 = \"\"\n",
    "            for id in ids:\n",
    "                line2 += str(id) + \" \"\n",
    "            line2 = line2[:-1] + \"\\n\"\n",
    "            file.write(line2)"
   ]
  },
  {
   "cell_type": "markdown",
   "metadata": {},
   "source": [
    "## Naive algorithm"
   ]
  },
  {
   "cell_type": "markdown",
   "metadata": {},
   "source": [
    "Sort libraries by signup_days_for_library_with_id and return them with a book ordering maximizing the score"
   ]
  },
  {
   "cell_type": "code",
   "execution_count": 18,
   "metadata": {},
   "outputs": [],
   "source": [
    "def sort_books_per_library(library_list_in_order : list):\n",
    "\n",
    "\n",
    "    # Books IDs to send first of ALL books\n",
    "    book_scores_index_sorted = list(reversed(sorted(range(len(book_scores_with_id)), key=book_scores_with_id.__getitem__)))\n",
    "\n",
    "    book_shipping_sorted_for_library_with_id = []\n",
    "    for library_id in library_list_in_order:\n",
    "        books = books_in_library_with_id[library_id]\n",
    "\n",
    "        shipping_order = []\n",
    "        for book_id in book_scores_index_sorted:\n",
    "            if(book_id in books):\n",
    "                shipping_order.append(book_id)\n",
    "\n",
    "        book_shipping_sorted_for_library_with_id.append(shipping_order)\n",
    "\n",
    "    return book_shipping_sorted_for_library_with_id"
   ]
  },
  {
   "cell_type": "code",
   "execution_count": 19,
   "metadata": {},
   "outputs": [],
   "source": [
    "file_names = [\"data/a_example.txt\", \"data/b_read_on.txt\", \n",
    "              \"data/c_incunabula.txt\", \"data/d_tough_choices.txt\", \n",
    "              \"data/e_so_many_books.txt\", \"data/f_libraries_of_the_world.txt\"]"
   ]
  },
  {
   "cell_type": "code",
   "execution_count": 20,
   "metadata": {},
   "outputs": [],
   "source": [
    "file_name = file_names[4]"
   ]
  },
  {
   "cell_type": "code",
   "execution_count": 21,
   "metadata": {},
   "outputs": [],
   "source": [
    "nb_books , \\\n",
    "\tnb_libraries, \\\n",
    "\tnb_days, \\\n",
    "\tnb_books_in_library_with_id, \\\n",
    "\tsignup_days_for_library_with_id, \\\n",
    "\tshipping_speed_for_library_with_id, \\\n",
    "\tbook_scores_with_id ,\\\n",
    "\tbooks_in_library_with_id  = read_file(file_name)"
   ]
  },
  {
   "cell_type": "code",
   "execution_count": 22,
   "metadata": {},
   "outputs": [],
   "source": [
    "tmp = np.sort(signup_days_for_library_with_id)\n",
    "indices = np.argsort(signup_days_for_library_with_id)"
   ]
  },
  {
   "cell_type": "code",
   "execution_count": 23,
   "metadata": {},
   "outputs": [
    {
     "data": {
      "text/plain": [
       "[<matplotlib.lines.Line2D at 0x12050f990>]"
      ]
     },
     "execution_count": 23,
     "metadata": {},
     "output_type": "execute_result"
    },
    {
     "data": {
      "image/png": "[encoded data removed]",
      "text/plain": [
       "<Figure size 432x288 with 1 Axes>"
      ]
     },
     "metadata": {
      "needs_background": "light"
     },
     "output_type": "display_data"
    }
   ],
   "source": [
    "plt.plot(tmp)"
   ]
  },
  {
   "cell_type": "code",
   "execution_count": 24,
   "metadata": {},
   "outputs": [],
   "source": [
    "cumsum = np.cumsum(tmp).tolist()"
   ]
  },
  {
   "cell_type": "code",
   "execution_count": 25,
   "metadata": {},
   "outputs": [
    {
     "data": {
      "text/plain": [
       "200"
      ]
     },
     "execution_count": 25,
     "metadata": {},
     "output_type": "execute_result"
    }
   ],
   "source": [
    "nb_days"
   ]
  },
  {
   "cell_type": "code",
   "execution_count": 26,
   "metadata": {},
   "outputs": [],
   "source": [
    "lib_to_use = []\n",
    "count = 0\n",
    "\n",
    "while True:\n",
    "    \n",
    "    if(len(cumsum) <= count):\n",
    "        break\n",
    "    if(cumsum[count]>nb_days):\n",
    "        break\n",
    "        \n",
    "    lib_to_use.append(indices[count])\n",
    "    count +=1\n",
    "    "
   ]
  },
  {
   "cell_type": "code",
   "execution_count": 27,
   "metadata": {},
   "outputs": [
    {
     "data": {
      "text/plain": [
       "155"
      ]
     },
     "execution_count": 27,
     "metadata": {},
     "output_type": "execute_result"
    }
   ],
   "source": [
    "len(lib_to_use)"
   ]
  },
  {
   "cell_type": "code",
   "execution_count": null,
   "metadata": {},
   "outputs": [],
   "source": [
    "output = sort_books_per_library(lib_to_use)"
   ]
  },
  {
   "cell_type": "code",
   "execution_count": null,
   "metadata": {},
   "outputs": [],
   "source": [
    "output(lib_to_use, output, \"subm_d.txt\")"
   ]
  }
 ],
 "metadata": {
  "kernelspec": {
   "display_name": "Python 3",
   "language": "python",
   "name": "python3"
  },
  "language_info": {
   "codemirror_mode": {
    "name": "ipython",
    "version": 3
   },
   "file_extension": ".py",
   "mimetype": "text/x-python",
   "name": "python",
   "nbconvert_exporter": "python",
   "pygments_lexer": "ipython3",
   "version": "3.7.4"
  }
 },
 "nbformat": 4,
 "nbformat_minor": 2
}
