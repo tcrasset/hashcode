{
 "cells": [
  {
   "cell_type": "code",
   "execution_count": 2,
   "metadata": {},
   "outputs": [],
   "source": [
    "import numpy as np\n",
    "import pandas as pd\n",
    "import time\n",
    "import os\n",
    "import sys\n",
    "import matplotlib.pyplot as plt"
   ]
  },
  {
   "cell_type": "markdown",
   "metadata": {},
   "source": [
    "## Utils"
   ]
  },
  {
   "cell_type": "code",
   "execution_count": 84,
   "metadata": {},
   "outputs": [],
   "source": [
    "def read_file(filename: str):\n",
    "    with open(filename) as file:\n",
    "        books_in_library_with_id = []\n",
    "        nb_books_in_library_with_id = []\n",
    "        signup_days_for_library_with_id = []\n",
    "        shipping_speed_for_library_with_id = []\n",
    "        \n",
    "        for idx, line in enumerate(file):\n",
    "            if(idx == 0):\n",
    "                # Start of the file\n",
    "                line_1 = line.replace('\\n', '').split(' ')\n",
    "#                 print(line_1)\n",
    "                nb_books = int(line_1[0])\n",
    "                nb_libraries = int(line_1[1])\n",
    "                nb_days = int(line_1[2])\n",
    "\n",
    "#                 print(nb_books)\n",
    "#                 print(nb_libraries)\n",
    "#                 print(nb_days)\n",
    "            elif(idx == 1):\n",
    "                book_scores_with_id = line.replace('\\n', '').split(' ')\n",
    "                book_scores_with_id = list(map(int,book_scores_with_id))\n",
    "\n",
    "            else:\n",
    "\n",
    "                if(idx % 2 == 0):\n",
    "                    \n",
    "                    #### Per library section\n",
    "                    line_1 = line.replace('\\n', '').split(' ')\n",
    "                    if(line_1[0] == ''):\n",
    "                        break\n",
    "\n",
    "                    nb_books_in_library_with_id.append(int(line_1[0]))\n",
    "                    signup_days_for_library_with_id.append(int(line_1[1]))\n",
    "                    shipping_speed_for_library_with_id.append(int(line_1[2]))\n",
    "                    \n",
    "#                     print(nb_books_in_library_with_id)\n",
    "#                     print(signup_days_for_library_with_id)\n",
    "#                     print(shipping_speed_for_library_with_id)\n",
    "                if(idx % 2 == 1):\n",
    "\n",
    "                    book_ids = line.replace('\\n', '').split(' ')\n",
    "                    if(book_ids[0] == ''):\n",
    "                        break\n",
    "\n",
    "                    book_ids = list(map(int,book_ids))\n",
    "                    books_in_library_with_id.append(book_ids)\n",
    "#                     print(\"book ids : {}\".format(books_in_library_with_id))\n",
    "\n",
    "\n",
    "\n",
    "    return nb_books, \\\n",
    "            nb_libraries, \\\n",
    "            nb_days, \\\n",
    "            nb_books_in_library_with_id, \\\n",
    "            signup_days_for_library_with_id, \\\n",
    "            shipping_speed_for_library_with_id, \\\n",
    "            book_scores_with_id ,\\\n",
    "            books_in_library_with_id"
   ]
  },
  {
   "cell_type": "code",
   "execution_count": 85,
   "metadata": {},
   "outputs": [],
   "source": [
    "def output(lib_ids, book_ids, filename):\n",
    "    with open(filename, \"w\") as file:\n",
    "        line = str(len(lib_ids)) + \"\\n\"\n",
    "        file.write(line)\n",
    "        for lib_id, ids in zip(lib_ids, book_ids):\n",
    "            line1 = str(lib_id) + \" \" + str(len(ids)) + \"\\n\"\n",
    "            file.write(line1)\n",
    "            line2 = \"\"\n",
    "            for id in ids:\n",
    "                line2 += str(id) + \" \"\n",
    "            line2 = line2[:-1] + \"\\n\"\n",
    "            file.write(line2)"
   ]
  },
  {
   "cell_type": "markdown",
   "metadata": {},
   "source": [
    "## Naive algorithm"
   ]
  },
  {
   "cell_type": "markdown",
   "metadata": {},
   "source": [
    "Sort libraries by signup_days_for_library_with_id and return them with a book ordering maximizing the score"
   ]
  },
  {
   "cell_type": "code",
   "execution_count": 86,
   "metadata": {},
   "outputs": [],
   "source": [
    "file_names = [\"data/a_example.txt\", \"data/b_read_on.txt\", \n",
    "              \"data/c_incunabula.txt\", \"data/d_tough_choices.txt\", \n",
    "              \"data/e_so_many_books.txt\", \"data/f_libraries_of_the_world.txt\"]"
   ]
  },
  {
   "cell_type": "code",
   "execution_count": 87,
   "metadata": {},
   "outputs": [],
   "source": [
    "file_name = file_names[2]"
   ]
  },
  {
   "cell_type": "code",
   "execution_count": 88,
   "metadata": {},
   "outputs": [],
   "source": [
    "def sort_books_per_library(library_list_in_order, nb_days=-1):\n",
    "\n",
    "    already_booked = []\n",
    "    \n",
    "    book_shipping_sorted_for_library_with_id = []\n",
    "    for library_id in library_list_in_order.copy():\n",
    "        nb_days_to_ship = nb_days - signup_days_for_library_with_id[library_id]\n",
    "\n",
    "        shipping_order = []\n",
    "        current_library_shipping_speed = shipping_speed_for_library_with_id[library_id]\n",
    "        index = 0\n",
    "        for book_id in books_in_library_with_id[library_id]:\n",
    "            \n",
    "            if(nb_days_to_ship<=0):\n",
    "                break\n",
    "            \n",
    "            if(book_id in already_booked):\n",
    "                continue\n",
    "            \n",
    "            if(index>=current_library_shipping_speed):\n",
    "                index = 0\n",
    "                nb_days_to_ship -= 1\n",
    "                \n",
    "            shipping_order.append(book_id)\n",
    "            already_booked.append(book_id)\n",
    "            index += 1\n",
    "        \n",
    "        if not (shipping_order == []):\n",
    "            nb_days -= signup_days_for_library_with_id[library_id]\n",
    "            book_shipping_sorted_for_library_with_id.append(shipping_order)\n",
    "        else:\n",
    "            library_list_in_order.remove(library_id)\n",
    "\n",
    "    return book_shipping_sorted_for_library_with_id, library_list_in_order"
   ]
  },
  {
   "cell_type": "code",
   "execution_count": 89,
   "metadata": {},
   "outputs": [],
   "source": [
    "file_names = [\"data/a_example.txt\", \"data/b_read_on.txt\", \n",
    "              \"data/c_incunabula.txt\", \"data/d_tough_choices.txt\", \n",
    "              \"data/e_so_many_books.txt\", \"data/f_libraries_of_the_world.txt\"]"
   ]
  },
  {
   "cell_type": "code",
   "execution_count": null,
   "metadata": {},
   "outputs": [],
   "source": []
  },
  {
   "cell_type": "code",
   "execution_count": 90,
   "metadata": {},
   "outputs": [],
   "source": [
    "def sort_books(books_in_library_with_id):\n",
    "    \n",
    "    \n",
    "    '''    book_scores_index_sorted = list(reversed(sorted(range(len(book_scores_with_id)), key=book_scores_with_id.__getitem__)))\n",
    "    '''    \n",
    "    \n",
    "    for library_id in range(nb_libraries):\n",
    "        key = []\n",
    "        for book_id in books_in_library_with_id[library_id]:\n",
    "            key.append(book_scores_with_id[book_id])\n",
    "        \n",
    "        import numpy\n",
    "        sorted_books_in_library_with_id = numpy.array(books_in_library_with_id[library_id])\n",
    "        key = numpy.array(key)\n",
    "        inds = key.argsort()\n",
    "        books_in_library_with_id[library_id] = list(reversed(sorted_books_in_library_with_id[inds].tolist()))\n",
    "        \n",
    "        \n",
    "       \n",
    "    return books_in_library_with_id"
   ]
  },
  {
   "cell_type": "code",
   "execution_count": 91,
   "metadata": {},
   "outputs": [
    {
     "name": "stdout",
     "output_type": "stream",
     "text": [
      "data/a_example.txt\n",
      "0.013879776000976562\n",
      "data/b_read_on.txt\n",
      "31.46447777748108\n",
      "data/c_incunabula.txt\n",
      "4.316000699996948\n",
      "data/d_tough_choices.txt\n",
      "78.37429428100586\n",
      "data/e_so_many_books.txt\n",
      "8.816262006759644\n",
      "data/f_libraries_of_the_world.txt\n",
      "0.979827880859375\n"
     ]
    }
   ],
   "source": [
    "sub_names = ['a.txt', 'b.txt', 'c.txt', 'd.txt', 'e.txt', 'f.txt']\n",
    "\n",
    "_id_ = 0\n",
    "for file_name in file_names:\n",
    "    print(file_name)\n",
    "    start_time = time.time()\n",
    "    nb_books , \\\n",
    "\tnb_libraries, \\\n",
    "\tnb_days, \\\n",
    "\tnb_books_in_library_with_id, \\\n",
    "\tsignup_days_for_library_with_id, \\\n",
    "\tshipping_speed_for_library_with_id, \\\n",
    "\tbook_scores_with_id ,\\\n",
    "\tbooks_in_library_with_id  = read_file(file_name)\n",
    "    \n",
    "    books_in_library_with_id = sort_books(books_in_library_with_id)\n",
    "\n",
    "\n",
    "    \n",
    "    tmp = np.sort(signup_days_for_library_with_id)\n",
    "    indices = np.argsort(signup_days_for_library_with_id)\n",
    "    \n",
    "    cumsum = np.cumsum(tmp).tolist()\n",
    "    \n",
    "    lib_to_use = []\n",
    "    count = 0\n",
    "\n",
    "    while True:\n",
    "\n",
    "        if(len(cumsum) <= count):\n",
    "            break\n",
    "        if(cumsum[count]>nb_days):\n",
    "            break\n",
    "\n",
    "        lib_to_use.append(indices[count])\n",
    "        count +=1\n",
    "        \n",
    "    out, lib_to_use = sort_books_per_library(lib_to_use, nb_days)\n",
    "    output(lib_to_use, out, sub_names[_id_])\n",
    "        \n",
    "    print(time.time() - start_time)\n",
    "    '''out, lib_to_use = sort_books_per_library(lib_to_use)\n",
    "    output(lib_to_use, out, sub_names[_id_])'''\n",
    "    _id_+=1\n",
    "    "
   ]
  }
 ],
 "metadata": {
  "kernelspec": {
   "display_name": "Python ()",
   "language": "python",
   "name": "python3"
  },
  "language_info": {
   "codemirror_mode": {
    "name": "ipython",
    "version": 3
   },
   "file_extension": ".py",
   "mimetype": "text/x-python",
   "name": "python",
   "nbconvert_exporter": "python",
   "pygments_lexer": "ipython3",
   "version": "3.6.10"
  }
 },
 "nbformat": 4,
 "nbformat_minor": 2
}
