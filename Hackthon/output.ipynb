{
 "cells": [
  {
   "cell_type": "code",
   "execution_count": 16,
   "metadata": {},
   "outputs": [],
   "source": [
    "import os\n",
    "import sys"
   ]
  },
  {
   "cell_type": "code",
   "execution_count": 17,
   "metadata": {},
   "outputs": [],
   "source": [
    "def output(lib_ids, nb_books, book_ids):\n",
    "    with open(\"output.txt\", \"w\") as file:\n",
    "        for lib_id, nb, ids in zip(lib_ids, nb_books, book_ids):\n",
    "            line1 = str(lib_id) + \" \" + str(nb) + \"\\n\"\n",
    "            file.write(line1)\n",
    "            line2 = \"\"\n",
    "            for id in ids:\n",
    "                line2 += str(id) + \" \"\n",
    "            line2 = line2[:-1] + \"\\n\"\n",
    "            file.write(line2)"
   ]
  },
  {
   "cell_type": "code",
   "execution_count": 18,
   "metadata": {},
   "outputs": [],
   "source": [
    "output([1, 2, 3], [2, 2, 1], [[0, 1], [1, 2], [3,]])"
   ]
  },
  {
   "cell_type": "code",
   "execution_count": null,
   "metadata": {},
   "outputs": [],
   "source": []
  }
 ],
 "metadata": {
  "kernelspec": {
   "display_name": "Python 3",
   "language": "python",
   "name": "python3"
  },
  "language_info": {
   "codemirror_mode": {
    "name": "ipython",
    "version": 3
   },
   "file_extension": ".py",
   "mimetype": "text/x-python",
   "name": "python",
   "nbconvert_exporter": "python",
   "pygments_lexer": "ipython3",
   "version": "3.7.6"
  }
 },
 "nbformat": 4,
 "nbformat_minor": 4
}
