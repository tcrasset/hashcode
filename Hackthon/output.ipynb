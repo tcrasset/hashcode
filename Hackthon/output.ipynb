{
 "cells": [
  {
   "cell_type": "code",
   "execution_count": 28,
   "metadata": {},
   "outputs": [],
   "source": [
    "import os\n",
    "import sys"
   ]
  },
  {
   "cell_type": "code",
   "execution_count": 29,
   "metadata": {},
   "outputs": [],
   "source": [
    "def output(lib_ids, book_ids, filename):\n",
    "    with open(filename, \"w\") as file:\n",
    "        for lib_id, ids in zip(lib_ids, book_ids):\n",
    "            line1 = str(lib_id) + \" \" + str(len(ids)) + \"\\n\"\n",
    "            file.write(line1)\n",
    "            line2 = \"\"\n",
    "            for id in ids:\n",
    "                line2 += str(id) + \" \"\n",
    "            line2 = line2[:-1] + \"\\n\"\n",
    "            file.write(line2)"
   ]
  }
 ],
 "metadata": {
  "kernelspec": {
   "display_name": "Python 3",
   "language": "python",
   "name": "python3"
  },
  "language_info": {
   "codemirror_mode": {
    "name": "ipython",
    "version": 3
   },
   "file_extension": ".py",
   "mimetype": "text/x-python",
   "name": "python",
   "nbconvert_exporter": "python",
   "pygments_lexer": "ipython3",
   "version": "3.7.6"
  }
 },
 "nbformat": 4,
 "nbformat_minor": 4
}
