{
 "cells": [
  {
   "cell_type": "code",
   "execution_count": 95,
   "metadata": {},
   "outputs": [],
   "source": [
    "import numpy as np\n",
    "import pandas as pd\n",
    "import time\n",
    "import os\n",
    "import sys"
   ]
  },
  {
   "cell_type": "markdown",
   "metadata": {},
   "source": [
    "## Utils"
   ]
  },
  {
   "cell_type": "code",
   "execution_count": 21,
   "metadata": {},
   "outputs": [],
   "source": [
    "def read_file(filename: str):\n",
    "    with open(filename) as file:\n",
    "        data = file.readlines()\n",
    "\n",
    "        max_slices = int(data[0].replace('\\n', '').split(' ')[0])\n",
    "        nb_diff_pizzas = int(data[0].replace('\\n', '').split(' ')[1])\n",
    "\n",
    "        pizza_slices = data[1].replace('\\n', '').split(' ')\n",
    "\n",
    "        pizza_slices_per_type = []\n",
    "        for nb_slices in pizza_slices:\n",
    "            pizza_slices_per_type.append(int(nb_slices))\n",
    "\n",
    "    return max_slices, nb_diff_pizzas, pizza_slices_per_type"
   ]
  },
  {
   "cell_type": "code",
   "execution_count": 4,
   "metadata": {},
   "outputs": [],
   "source": [
    "def create_submission(nb_pizzas: int, pizza_nb_list: list, directory: str, output_file: str) -> None:\n",
    "    filepath = os.path.join(directory, output_file)\n",
    "    with open(filepath, 'w') as file:\n",
    "        file.write(\"{}\\n\".format(nb_pizzas))\n",
    "        for pizza_nb in pizza_nb_list:\n",
    "            file.write(\"{} \".format(pizza_nb))\n",
    "        file.write(\"\\n\")\n",
    "    pass"
   ]
  },
  {
   "cell_type": "markdown",
   "metadata": {},
   "source": [
    "## Counter-like algorithm"
   ]
  },
  {
   "cell_type": "code",
   "execution_count": 96,
   "metadata": {},
   "outputs": [],
   "source": [
    "# Recursive algorithm; we update the max recursion depth.\n",
    "# TODO; Change to iterative algo\n",
    "sys.setrecursionlimit(15000)"
   ]
  },
  {
   "cell_type": "code",
   "execution_count": 117,
   "metadata": {},
   "outputs": [],
   "source": [
    "def solve(nb_slices: int, pizza_list: list):\n",
    "    \n",
    "    # Base case\n",
    "    if(nb_slices<0):\n",
    "        return None\n",
    "    elif(nb_slices==0):\n",
    "        return []\n",
    "    if(len(pizza_list) < 1):\n",
    "        return None\n",
    "    elif(len(pizza_list) == 1):\n",
    "        if(pizza_list[0] == nb_slices):\n",
    "            return [nb_slices]\n",
    "        return None\n",
    "    \n",
    "    # Recursion. It is like the eight queens problem; or you can see that as a counter.\n",
    "    # You start with the 'biggest pizza' and fill the rest recursively. When you do not\n",
    "    # find a solution, you backtrack and try the second 'biggest' pizza and so on\n",
    "    for i in range(len(pizza_list)-1, -1, -1):\n",
    "        solution = solve(nb_slices - pizza_list[i], pizza_list[:i] + pizza_list[i+1:])\n",
    "        if (solution is not None):\n",
    "            solution.append(pizza_list[i])\n",
    "            return solution\n",
    "        \n",
    "    return None"
   ]
  },
  {
   "cell_type": "code",
   "execution_count": 122,
   "metadata": {},
   "outputs": [
    {
     "name": "stdout",
     "output_type": "stream",
     "text": [
      "Running time: 0.00015306472778320312\n",
      "Running time: 0.0001819133758544922\n",
      "Running time: 18.085639238357544\n",
      "Running time: 5.740953207015991\n"
     ]
    }
   ],
   "source": [
    "if __name__ == '__main__':\n",
    "    directory = \"data\"\n",
    "    \n",
    "    filenames = [\"b_small.in\", \"c_medium.in\", \"d_quite_big.in\", \"e_also_big.in\"]\n",
    "    \n",
    "    for index, filename in enumerate(filenames):\n",
    "\n",
    "        # Read input\n",
    "        max_slices, nb_diff_pizzas, pizza_slices_per_type = read_file(os.path.join(directory, filename))\n",
    "\n",
    "        # Solve the problem\n",
    "        start_time = time.time()\n",
    "        solution = solve(max_slices, pizza_slices_per_type)\n",
    "        \n",
    "        print('Running time:', time.time() - start_time)\n",
    "        \n",
    "        # Retrieve the pizza indices\n",
    "        solution_index = []\n",
    "        count = 0\n",
    "        for element in solution:\n",
    "            \n",
    "            while(True):\n",
    "                count += 1\n",
    "                if((pizza_slices_per_type[count] == element)):\n",
    "                    break\n",
    "            solution_index.append(count)\n",
    "\n",
    "        # Create submission\n",
    "        output_file = \"submit_\" + str(index) + \".txt\"\n",
    "        create_submission(len(solution), solution_index, directory=\"submission\", output_file=output_file)"
   ]
  },
  {
   "cell_type": "code",
   "execution_count": null,
   "metadata": {},
   "outputs": [],
   "source": []
  }
 ],
 "metadata": {
  "kernelspec": {
   "display_name": "Python 3",
   "language": "python",
   "name": "python3"
  },
  "language_info": {
   "codemirror_mode": {
    "name": "ipython",
    "version": 3
   },
   "file_extension": ".py",
   "mimetype": "text/x-python",
   "name": "python",
   "nbconvert_exporter": "python",
   "pygments_lexer": "ipython3",
   "version": "3.7.4"
  }
 },
 "nbformat": 4,
 "nbformat_minor": 2
}
