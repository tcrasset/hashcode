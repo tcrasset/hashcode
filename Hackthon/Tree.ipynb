{
 "cells": [
  {
   "cell_type": "code",
   "execution_count": 1,
   "metadata": {},
   "outputs": [],
   "source": [
    "import numpy as np\n",
    "import pandas as pd\n",
    "import time\n",
    "import os\n",
    "import sys"
   ]
  },
  {
   "cell_type": "markdown",
   "metadata": {},
   "source": [
    "## Utils"
   ]
  },
  {
   "cell_type": "code",
   "execution_count": 2,
   "metadata": {},
   "outputs": [],
   "source": [
    "def read_file(filename: str):\n",
    "    with open(filename) as file:\n",
    "        books_in_library_with_id = []\n",
    "        nb_books_in_library_with_id = []\n",
    "        signup_days_for_library_with_id = []\n",
    "        shipping_speed_for_library_with_id = []\n",
    "        \n",
    "        for idx, line in enumerate(file):\n",
    "            if(idx == 0):\n",
    "                # Start of the file\n",
    "                line_1 = line.replace('\\n', '').split(' ')\n",
    "#                 print(line_1)\n",
    "                nb_books = int(line_1[0])\n",
    "                nb_libraries = int(line_1[1])\n",
    "                nb_days = int(line_1[2])\n",
    "\n",
    "#                 print(nb_books)\n",
    "#                 print(nb_libraries)\n",
    "#                 print(nb_days)\n",
    "            elif(idx == 1):\n",
    "                book_scores_with_id = line.replace('\\n', '').split(' ')\n",
    "                book_scores_with_id = list(map(int,book_scores_with_id))\n",
    "\n",
    "            else:\n",
    "\n",
    "                if(idx % 2 == 0):\n",
    "                    \n",
    "                    #### Per library section\n",
    "                    line_1 = line.replace('\\n', '').split(' ')\n",
    "                    if(line_1[0] == ''):\n",
    "                        break\n",
    "\n",
    "                    nb_books_in_library_with_id.append(int(line_1[0]))\n",
    "                    signup_days_for_library_with_id.append(int(line_1[1]))\n",
    "                    shipping_speed_for_library_with_id.append(int(line_1[2]))\n",
    "                    \n",
    "#                     print(nb_books_in_library_with_id)\n",
    "#                     print(signup_days_for_library_with_id)\n",
    "#                     print(shipping_speed_for_library_with_id)\n",
    "                if(idx % 2 == 1):\n",
    "\n",
    "                    book_ids = line.replace('\\n', '').split(' ')\n",
    "                    if(book_ids[0] == ''):\n",
    "                        break\n",
    "\n",
    "                    book_ids = list(map(int,book_ids))\n",
    "                    books_in_library_with_id.append(book_ids)\n",
    "#                     print(\"book ids : {}\".format(books_in_library_with_id))\n",
    "\n",
    "\n",
    "\n",
    "    return nb_books, \\\n",
    "            nb_libraries, \\\n",
    "            nb_days, \\\n",
    "            nb_books_in_library_with_id, \\\n",
    "            signup_days_for_library_with_id, \\\n",
    "            shipping_speed_for_library_with_id, \\\n",
    "            book_scores_with_id ,\\\n",
    "            books_in_library_with_id"
   ]
  },
  {
   "cell_type": "code",
   "execution_count": 3,
   "metadata": {},
   "outputs": [],
   "source": [
    "def create_submission(nb_pizzas: int, pizza_nb_list: list, directory: str, output_file: str) -> None:\n",
    "    TODO"
   ]
  },
  {
   "cell_type": "markdown",
   "metadata": {},
   "source": [
    "## Get Score"
   ]
  },
  {
   "cell_type": "code",
   "execution_count": 10,
   "metadata": {},
   "outputs": [],
   "source": [
    "def get_score_from_library(library_id : int, days_left : int, books_already_scanned : list, signup_days_for_library_with_id : list, book_scores_with_id: list):\n",
    "\n",
    "    # Update days left\n",
    "    days_left = days_left - int(signup_days_for_library_with_id[library_id])\n",
    "\n",
    "    # Compute books scanned and possible books in library to be used\n",
    "    books = books_in_library_with_id[library_id]\n",
    "    books_already_scanned_set = set(books_already_scanned)\n",
    "    possible_books = set(books).difference(books_already_scanned_set)\n",
    "    books_scanned = books_already_scanned_set.union(possible_books)\n",
    "\n",
    "    # Compute score\n",
    "    score = 0\n",
    "    for book in possible_books:\n",
    "        score += book_scores_with_id[book]\n",
    "\n",
    "    return score, days_left, list(books_scanned)"
   ]
  },
  {
   "cell_type": "markdown",
   "metadata": {},
   "source": [
    "## Recursive algorithm"
   ]
  },
  {
   "cell_type": "code",
   "execution_count": 11,
   "metadata": {},
   "outputs": [],
   "source": [
    "# Recursive algorithm; we update the max recursion depth.\n",
    "# TODO; Change to iterative algo\n",
    "sys.setrecursionlimit(15000)"
   ]
  },
  {
   "cell_type": "code",
   "execution_count": 32,
   "metadata": {},
   "outputs": [],
   "source": [
    "def select_promising_libraries(Libraries):\n",
    "    return Libraries[:3]"
   ]
  },
  {
   "cell_type": "code",
   "execution_count": 33,
   "metadata": {},
   "outputs": [],
   "source": [
    "def solve(Libraries, nb_day, books_already_scanned, signup_days_for_library_with_id, book_scores_with_id, depth):\n",
    "    \n",
    "    if(depth>10): \n",
    "        \"\"\"Pruning\"\"\"\n",
    "        return 0 \n",
    "        \"\"\"TODO; update this\"\"\"\n",
    "    elif(len(Libraries) == 0):\n",
    "        return 0\n",
    "    elif(nb_day == 0):\n",
    "        return 0\n",
    "    elif(nb_day<0):\n",
    "        return None\n",
    "    elif(len(Libraries) < 0):\n",
    "        raise Exception(\"PROB\")\n",
    "    else:\n",
    "        scores = []\n",
    "        node_score, days, books = get_score_from_library(0 ,nb_day, books_already_scanned, signup_days_for_library_with_id, book_scores_with_id)\n",
    "\n",
    "        for i in range(len(select_promising_libraries(Libraries))):\n",
    "\n",
    "            sub_solution = solve(Libraries[:i] + Libraries[i+1:], nb_day - int(signup_days_for_library_with_id[i]), set(books).union(books_already_scanned), \n",
    "                                 signup_days_for_library_with_id[:i] + signup_days_for_library_with_id[i+1:],\n",
    "                                 book_scores_with_id[:i] + book_scores_with_id[i+1:], depth+1)\n",
    "            if sub_solution is not None:\n",
    "                scores.append(sub_solution)\n",
    "                \n",
    "        if scores == []:\n",
    "            return None\n",
    "        else:\n",
    "            return (max(scores)+node_score)    "
   ]
  },
  {
   "cell_type": "markdown",
   "metadata": {},
   "source": [
    "## Main"
   ]
  },
  {
   "cell_type": "code",
   "execution_count": 34,
   "metadata": {},
   "outputs": [],
   "source": [
    "file_names = [\"data/a_example.txt\", \"data/b_read_on.txt\", \n",
    "              \"data/c_incunabula.txt\", \"data/d_tough_choices.txt\", \n",
    "              \"data/e_so_many_books.txt\", \"data/f_libraries_of_the_world.txt\"]"
   ]
  },
  {
   "cell_type": "code",
   "execution_count": 35,
   "metadata": {},
   "outputs": [
    {
     "name": "stdout",
     "output_type": "stream",
     "text": [
      "100000\n",
      "1395.641329050064\n"
     ]
    }
   ],
   "source": [
    "file_name = file_names[1]\n",
    "\n",
    "nb_books , \\\n",
    "\tnb_libraries, \\\n",
    "\tnb_days, \\\n",
    "\tnb_books_in_library_with_id, \\\n",
    "\tsignup_days_for_library_with_id, \\\n",
    "\tshipping_speed_for_library_with_id, \\\n",
    "\tbook_scores_with_id ,\\\n",
    "\tbooks_in_library_with_id  = read_file(file_name)\n",
    "\n",
    "libraries = list(range(nb_libraries))\n",
    "\n",
    "start_time = time.time()\n",
    "print(solve(libraries, nb_days, set(), signup_days_for_library_with_id, book_scores_with_id, 0))\n",
    "print(time.time() - start_time)"
   ]
  },
  {
   "cell_type": "code",
   "execution_count": null,
   "metadata": {},
   "outputs": [],
   "source": []
  },
  {
   "cell_type": "code",
   "execution_count": null,
   "metadata": {},
   "outputs": [],
   "source": []
  },
  {
   "cell_type": "code",
   "execution_count": null,
   "metadata": {},
   "outputs": [],
   "source": []
  }
 ],
 "metadata": {
  "kernelspec": {
   "display_name": "Python 3",
   "language": "python",
   "name": "python3"
  },
  "language_info": {
   "codemirror_mode": {
    "name": "ipython",
    "version": 3
   },
   "file_extension": ".py",
   "mimetype": "text/x-python",
   "name": "python",
   "nbconvert_exporter": "python",
   "pygments_lexer": "ipython3",
   "version": "3.7.4"
  }
 },
 "nbformat": 4,
 "nbformat_minor": 2
}
