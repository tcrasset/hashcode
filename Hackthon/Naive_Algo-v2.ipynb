{
 "cells": [
  {
   "cell_type": "code",
   "execution_count": 32,
   "metadata": {},
   "outputs": [],
   "source": [
    "import numpy as np\n",
    "import pandas as pd\n",
    "import time\n",
    "import os\n",
    "import sys\n",
    "import matplotlib.pyplot as plt"
   ]
  },
  {
   "cell_type": "markdown",
   "metadata": {},
   "source": [
    "## Utils"
   ]
  },
  {
   "cell_type": "code",
   "execution_count": 33,
   "metadata": {},
   "outputs": [],
   "source": [
    "def read_file(filename: str):\n",
    "    with open(filename) as file:\n",
    "        books_in_library_with_id = []\n",
    "        nb_books_in_library_with_id = []\n",
    "        signup_days_for_library_with_id = []\n",
    "        shipping_speed_for_library_with_id = []\n",
    "        \n",
    "        for idx, line in enumerate(file):\n",
    "            if(idx == 0):\n",
    "                # Start of the file\n",
    "                line_1 = line.replace('\\n', '').split(' ')\n",
    "#                 print(line_1)\n",
    "                nb_books = int(line_1[0])\n",
    "                nb_libraries = int(line_1[1])\n",
    "                nb_days = int(line_1[2])\n",
    "\n",
    "#                 print(nb_books)\n",
    "#                 print(nb_libraries)\n",
    "#                 print(nb_days)\n",
    "            elif(idx == 1):\n",
    "                book_scores_with_id = line.replace('\\n', '').split(' ')\n",
    "                book_scores_with_id = list(map(int,book_scores_with_id))\n",
    "\n",
    "            else:\n",
    "\n",
    "                if(idx % 2 == 0):\n",
    "                    \n",
    "                    #### Per library section\n",
    "                    line_1 = line.replace('\\n', '').split(' ')\n",
    "                    if(line_1[0] == ''):\n",
    "                        break\n",
    "\n",
    "                    nb_books_in_library_with_id.append(int(line_1[0]))\n",
    "                    signup_days_for_library_with_id.append(int(line_1[1]))\n",
    "                    shipping_speed_for_library_with_id.append(int(line_1[2]))\n",
    "                    \n",
    "#                     print(nb_books_in_library_with_id)\n",
    "#                     print(signup_days_for_library_with_id)\n",
    "#                     print(shipping_speed_for_library_with_id)\n",
    "                if(idx % 2 == 1):\n",
    "\n",
    "                    book_ids = line.replace('\\n', '').split(' ')\n",
    "                    if(book_ids[0] == ''):\n",
    "                        break\n",
    "\n",
    "                    book_ids = list(map(int,book_ids))\n",
    "                    books_in_library_with_id.append(book_ids)\n",
    "#                     print(\"book ids : {}\".format(books_in_library_with_id))\n",
    "\n",
    "\n",
    "\n",
    "    return nb_books, \\\n",
    "            nb_libraries, \\\n",
    "            nb_days, \\\n",
    "            nb_books_in_library_with_id, \\\n",
    "            signup_days_for_library_with_id, \\\n",
    "            shipping_speed_for_library_with_id, \\\n",
    "            book_scores_with_id ,\\\n",
    "            books_in_library_with_id"
   ]
  },
  {
   "cell_type": "code",
   "execution_count": 71,
   "metadata": {},
   "outputs": [],
   "source": [
    "def output(lib_ids, book_ids, filename):\n",
    "    with open(filename, \"w\") as file:\n",
    "        line = str(len(lib_ids)) + \"\\n\"\n",
    "        file.write(line)\n",
    "        for lib_id, ids in zip(lib_ids, book_ids):\n",
    "            line1 = str(lib_id) + \" \" + str(len(ids)) + \"\\n\"\n",
    "            file.write(line1)\n",
    "            line2 = \"\"\n",
    "            for id in ids:\n",
    "                line2 += str(id) + \" \"\n",
    "            line2 = line2[:-1] + \"\\n\"\n",
    "            file.write(line2)"
   ]
  },
  {
   "cell_type": "markdown",
   "metadata": {},
   "source": [
    "## Naive algorithm"
   ]
  },
  {
   "cell_type": "markdown",
   "metadata": {},
   "source": [
    "Sort libraries by signup_days_for_library_with_id and return them with a book ordering maximizing the score"
   ]
  },
  {
   "cell_type": "code",
   "execution_count": 49,
   "metadata": {},
   "outputs": [],
   "source": [
    "file_names = [\"data/a_example.txt\", \"data/b_read_on.txt\", \n",
    "              \"data/c_incunabula.txt\", \"data/d_tough_choices.txt\", \n",
    "              \"data/e_so_many_books.txt\", \"data/f_libraries_of_the_world.txt\"]"
   ]
  },
  {
   "cell_type": "code",
   "execution_count": 50,
   "metadata": {},
   "outputs": [],
   "source": [
    "file_name = file_names[2]"
   ]
  },
  {
   "cell_type": "code",
   "execution_count": 51,
   "metadata": {},
   "outputs": [],
   "source": [
    "nb_books , \\\n",
    "\tnb_libraries, \\\n",
    "\tnb_days, \\\n",
    "\tnb_books_in_library_with_id, \\\n",
    "\tsignup_days_for_library_with_id, \\\n",
    "\tshipping_speed_for_library_with_id, \\\n",
    "\tbook_scores_with_id ,\\\n",
    "\tbooks_in_library_with_id  = read_file(file_name)"
   ]
  },
  {
   "cell_type": "code",
   "execution_count": 52,
   "metadata": {},
   "outputs": [],
   "source": [
    "tmp = np.sort(signup_days_for_library_with_id)\n",
    "indices = np.argsort(signup_days_for_library_with_id)"
   ]
  },
  {
   "cell_type": "code",
   "execution_count": 53,
   "metadata": {},
   "outputs": [
    {
     "data": {
      "text/plain": [
       "[<matplotlib.lines.Line2D at 0x7fa827e77898>]"
      ]
     },
     "execution_count": 53,
     "metadata": {},
     "output_type": "execute_result"
    },
    {
     "data": {
      "image/png": "[encoded data removed]",
      "text/plain": [
       "<Figure size 432x288 with 1 Axes>"
      ]
     },
     "metadata": {
      "needs_background": "light"
     },
     "output_type": "display_data"
    }
   ],
   "source": [
    "plt.plot(tmp)"
   ]
  },
  {
   "cell_type": "code",
   "execution_count": 54,
   "metadata": {},
   "outputs": [],
   "source": [
    "cumsum = np.cumsum(tmp).tolist()"
   ]
  },
  {
   "cell_type": "code",
   "execution_count": 55,
   "metadata": {},
   "outputs": [
    {
     "data": {
      "text/plain": [
       "100000"
      ]
     },
     "execution_count": 55,
     "metadata": {},
     "output_type": "execute_result"
    }
   ],
   "source": [
    "nb_days"
   ]
  },
  {
   "cell_type": "code",
   "execution_count": 56,
   "metadata": {},
   "outputs": [],
   "source": [
    "lib_to_use = []\n",
    "count = 0\n",
    "\n",
    "while True:\n",
    "    \n",
    "    if(len(cumsum) <= count):\n",
    "        break\n",
    "    if(cumsum[count]>nb_days):\n",
    "        break\n",
    "        \n",
    "    lib_to_use.append(indices[count])\n",
    "    count +=1\n",
    "    "
   ]
  },
  {
   "cell_type": "code",
   "execution_count": 57,
   "metadata": {},
   "outputs": [
    {
     "data": {
      "text/plain": [
       "1338"
      ]
     },
     "execution_count": 57,
     "metadata": {},
     "output_type": "execute_result"
    }
   ],
   "source": [
    "len(lib_to_use)"
   ]
  },
  {
   "cell_type": "code",
   "execution_count": 82,
   "metadata": {},
   "outputs": [],
   "source": [
    "def sort_books_per_library(library_list_in_order : list):\n",
    "\n",
    "\n",
    "    # Books IDs to send first of ALL books\n",
    "    book_scores_index_sorted = list(reversed(sorted(range(len(book_scores_with_id)), key=book_scores_with_id.__getitem__)))\n",
    "\n",
    "    book_shipping_sorted_for_library_with_id = []\n",
    "    for library_id in library_list_in_order.copy():\n",
    "        books = books_in_library_with_id[library_id]\n",
    "\n",
    "        shipping_order = []\n",
    "        for book_id in book_scores_index_sorted:\n",
    "            if(book_id in books):\n",
    "                shipping_order.append(book_id)\n",
    "                book_scores_index_sorted.remove(book_id)\n",
    "        \n",
    "        if not (shipping_order == []):\n",
    "            book_shipping_sorted_for_library_with_id.append(shipping_order)\n",
    "        else:\n",
    "            library_list_in_order.remove(library_id)\n",
    "            print(library_id)\n",
    "\n",
    "    return book_shipping_sorted_for_library_with_id, library_list_in_order"
   ]
  },
  {
   "cell_type": "code",
   "execution_count": 61,
   "metadata": {},
   "outputs": [],
   "source": [
    "out = sort_books_per_library(lib_to_use)"
   ]
  },
  {
   "cell_type": "code",
   "execution_count": 62,
   "metadata": {},
   "outputs": [],
   "source": [
    "output(lib_to_use, out, \"subm_f.txt\")"
   ]
  },
  {
   "cell_type": "code",
   "execution_count": 74,
   "metadata": {},
   "outputs": [],
   "source": [
    "file_names = [\"data/a_example.txt\", \"data/b_read_on.txt\", \n",
    "              \"data/c_incunabula.txt\", \"data/d_tough_choices.txt\", \n",
    "              \"data/e_so_many_books.txt\", \"data/f_libraries_of_the_world.txt\"]"
   ]
  },
  {
   "cell_type": "code",
   "execution_count": null,
   "metadata": {},
   "outputs": [],
   "source": []
  },
  {
   "cell_type": "code",
   "execution_count": 80,
   "metadata": {},
   "outputs": [
    {
     "name": "stdout",
     "output_type": "stream",
     "text": [
      "data/d_tough_choices.txt\n",
      "20754\n",
      "16306\n",
      "15328\n",
      "17892\n",
      "17818\n",
      "18418\n",
      "16961\n",
      "17032\n",
      "17470\n",
      "27646\n",
      "27634\n",
      "27226\n",
      "27924\n",
      "27706\n",
      "26594\n",
      "26704\n",
      "26690\n",
      "26633\n",
      "26328\n",
      "26300\n",
      "26442\n",
      "26384\n",
      "26416\n",
      "27159\n",
      "27128\n",
      "27124\n",
      "26832\n",
      "26867\n",
      "29374\n",
      "29402\n",
      "29316\n",
      "29342\n",
      "29490\n",
      "29438\n",
      "29441\n",
      "29470\n",
      "29086\n",
      "29188\n",
      "29207\n",
      "29838\n",
      "29824\n",
      "29797\n",
      "29969\n",
      "29978\n",
      "29974\n",
      "29911\n",
      "29568\n",
      "29754\n",
      "29744\n",
      "29698\n",
      "29694\n",
      "28382\n",
      "28526\n",
      "28206\n",
      "28148\n",
      "28334\n",
      "28915\n",
      "28926\n",
      "28866\n",
      "28945\n",
      "28992\n",
      "28978\n",
      "28608\n",
      "28600\n",
      "28794\n",
      "28728\n",
      "28762\n",
      "22500\n",
      "23712\n",
      "23708\n",
      "23791\n",
      "23652\n",
      "23646\n",
      "23572\n",
      "23586\n",
      "24224\n",
      "24250\n",
      "24150\n",
      "24188\n",
      "24174\n",
      "24142\n",
      "24336\n",
      "24258\n",
      "23980\n",
      "24104\n",
      "24138\n",
      "24046\n",
      "22818\n",
      "22758\n",
      "22776\n",
      "22768\n",
      "22930\n",
      "22924\n",
      "22958\n",
      "22864\n",
      "22898\n",
      "22602\n",
      "22514\n",
      "22536\n",
      "22694\n",
      "22708\n",
      "22719\n",
      "22642\n",
      "22626\n",
      "22652\n",
      "23316\n",
      "23224\n",
      "23210\n",
      "23206\n",
      "23235\n",
      "23424\n",
      "23380\n",
      "23334\n",
      "23364\n",
      "23034\n",
      "23082\n",
      "23076\n",
      "23060\n",
      "23016\n",
      "23087\n",
      "23148\n",
      "23178\n",
      "23104\n",
      "23132\n",
      "23118\n",
      "23129\n",
      "25640\n",
      "25635\n",
      "25570\n",
      "25577\n",
      "25592\n",
      "25732\n",
      "25728\n",
      "25684\n",
      "25712\n",
      "25704\n",
      "25707\n",
      "25386\n",
      "25408\n",
      "25330\n",
      "25343\n",
      "25364\n",
      "25350\n",
      "25508\n",
      "25544\n",
      "25524\n",
      "25488\n",
      "25436\n",
      "25474\n",
      "26096\n",
      "26126\n",
      "26110\n",
      "26036\n",
      "26064\n",
      "26054\n",
      "26208\n",
      "26244\n",
      "26240\n",
      "26228\n",
      "26224\n",
      "26152\n",
      "26140\n",
      "26184\n",
      "26174\n",
      "26016\n",
      "25860\n",
      "25882\n",
      "25820\n",
      "25812\n",
      "25897\n",
      "25968\n",
      "25964\n",
      "25958\n",
      "25994\n",
      "25922\n",
      "25910\n",
      "25936\n",
      "25929\n",
      "24674\n",
      "24714\n",
      "24706\n",
      "24632\n",
      "24626\n",
      "24612\n",
      "24656\n",
      "24642\n",
      "24808\n",
      "24800\n",
      "24828\n",
      "24817\n",
      "24744\n",
      "24727\n",
      "24768\n",
      "24482\n",
      "24476\n",
      "24470\n",
      "24465\n",
      "24398\n",
      "24430\n",
      "24422\n",
      "24416\n",
      "24406\n",
      "24564\n",
      "24558\n",
      "24579\n",
      "24600\n",
      "24586\n",
      "24582\n",
      "24514\n",
      "24504\n",
      "24498\n",
      "24542\n",
      "24536\n",
      "24524\n",
      "25156\n",
      "25152\n",
      "25169\n",
      "25138\n",
      "25088\n",
      "25107\n",
      "25130\n",
      "25114\n",
      "25195\n",
      "25283\n",
      "25310\n",
      "25304\n",
      "25300\n",
      "25216\n",
      "25210\n",
      "25250\n",
      "25078\n",
      "24928\n",
      "24908\n",
      "24954\n",
      "24946\n",
      "24938\n",
      "24934\n",
      "24866\n",
      "24860\n",
      "24848\n",
      "24873\n",
      "24892\n",
      "24888\n",
      "24884\n",
      "25032\n",
      "25052\n",
      "24976\n",
      "25016\n",
      "25008\n",
      "24998\n"
     ]
    }
   ],
   "source": [
    "file_name = file_names[3]\n",
    "print(file_name)\n",
    "nb_books , \\\n",
    "nb_libraries, \\\n",
    "nb_days, \\\n",
    "nb_books_in_library_with_id, \\\n",
    "signup_days_for_library_with_id, \\\n",
    "shipping_speed_for_library_with_id, \\\n",
    "book_scores_with_id ,\\\n",
    "books_in_library_with_id  = read_file(file_name)\n",
    "\n",
    "tmp = np.sort(signup_days_for_library_with_id)\n",
    "indices = np.argsort(signup_days_for_library_with_id)\n",
    "\n",
    "cumsum = np.cumsum(tmp).tolist()\n",
    "\n",
    "lib_to_use = []\n",
    "count = 0\n",
    "\n",
    "while True:\n",
    "\n",
    "    if(len(cumsum) <= count):\n",
    "        break\n",
    "    if(cumsum[count]>nb_days):\n",
    "        break\n",
    "\n",
    "    lib_to_use.append(indices[count])\n",
    "    count +=1\n"
   ]
  },
  {
   "cell_type": "code",
   "execution_count": 81,
   "metadata": {},
   "outputs": [
    {
     "name": "stdout",
     "output_type": "stream",
     "text": [
      "[72063, 58196, 36179, 72064, 32371, 71008, 23097, 64826, 14525, 30948]\n"
     ]
    }
   ],
   "source": [
    "print(books_in_library_with_id[20753])"
   ]
  },
  {
   "cell_type": "code",
   "execution_count": 83,
   "metadata": {
    "scrolled": true
   },
   "outputs": [
    {
     "name": "stdout",
     "output_type": "stream",
     "text": [
      "29413\n",
      "29468\n",
      "29752\n",
      "24136\n",
      "22816\n",
      "22926\n",
      "22956\n",
      "22896\n",
      "22556\n",
      "23314\n",
      "23170\n",
      "25606\n",
      "25682\n",
      "25362\n",
      "26124\n",
      "26062\n",
      "26206\n",
      "26138\n",
      "26014\n",
      "25899\n",
      "25966\n",
      "24672\n",
      "24826\n",
      "24742\n",
      "24418\n",
      "24556\n",
      "24540\n",
      "25167\n",
      "25112\n",
      "25284\n",
      "24878\n",
      "25014\n"
     ]
    }
   ],
   "source": [
    "out, lib_to_use = sort_books_per_library(lib_to_use)\n",
    "output(lib_to_use, out, sub_names[3])"
   ]
  },
  {
   "cell_type": "code",
   "execution_count": null,
   "metadata": {},
   "outputs": [],
   "source": []
  },
  {
   "cell_type": "code",
   "execution_count": null,
   "metadata": {},
   "outputs": [],
   "source": []
  },
  {
   "cell_type": "code",
   "execution_count": 75,
   "metadata": {},
   "outputs": [
    {
     "name": "stdout",
     "output_type": "stream",
     "text": [
      "data/a_example.txt\n",
      "data/b_read_on.txt\n",
      "data/c_incunabula.txt\n",
      "data/d_tough_choices.txt\n",
      "data/e_so_many_books.txt\n",
      "data/f_libraries_of_the_world.txt\n"
     ]
    }
   ],
   "source": [
    "sub_names = ['a.txt', 'b.txt', 'c.txt', 'd.txt', 'e.txt', 'f.txt']\n",
    "\n",
    "_id_ = 0\n",
    "for file_name in file_names:\n",
    "    print(file_name)\n",
    "    nb_books , \\\n",
    "\tnb_libraries, \\\n",
    "\tnb_days, \\\n",
    "\tnb_books_in_library_with_id, \\\n",
    "\tsignup_days_for_library_with_id, \\\n",
    "\tshipping_speed_for_library_with_id, \\\n",
    "\tbook_scores_with_id ,\\\n",
    "\tbooks_in_library_with_id  = read_file(file_name)\n",
    "    \n",
    "    tmp = np.sort(signup_days_for_library_with_id)\n",
    "    indices = np.argsort(signup_days_for_library_with_id)\n",
    "    \n",
    "    cumsum = np.cumsum(tmp).tolist()\n",
    "    \n",
    "    lib_to_use = []\n",
    "    count = 0\n",
    "\n",
    "    while True:\n",
    "\n",
    "        if(len(cumsum) <= count):\n",
    "            break\n",
    "        if(cumsum[count]>nb_days):\n",
    "            break\n",
    "\n",
    "        lib_to_use.append(indices[count])\n",
    "        count +=1\n",
    "        \n",
    "    out, lib_to_use = sort_books_per_library(lib_to_use)\n",
    "    output(lib_to_use, out, sub_names[_id_])\n",
    "    _id_+=1\n",
    "    "
   ]
  },
  {
   "cell_type": "code",
   "execution_count": null,
   "metadata": {},
   "outputs": [],
   "source": []
  },
  {
   "cell_type": "code",
   "execution_count": null,
   "metadata": {},
   "outputs": [],
   "source": []
  },
  {
   "cell_type": "code",
   "execution_count": null,
   "metadata": {},
   "outputs": [],
   "source": []
  },
  {
   "cell_type": "code",
   "execution_count": null,
   "metadata": {},
   "outputs": [],
   "source": []
  }
 ],
 "metadata": {
  "kernelspec": {
   "display_name": "Python 3",
   "language": "python",
   "name": "python3"
  },
  "language_info": {
   "codemirror_mode": {
    "name": "ipython",
    "version": 3
   },
   "file_extension": ".py",
   "mimetype": "text/x-python",
   "name": "python",
   "nbconvert_exporter": "python",
   "pygments_lexer": "ipython3",
   "version": "3.6.8"
  }
 },
 "nbformat": 4,
 "nbformat_minor": 2
}
