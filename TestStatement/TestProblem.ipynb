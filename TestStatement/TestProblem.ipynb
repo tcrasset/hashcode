{
 "cells": [
  {
   "cell_type": "code",
   "execution_count": 18,
   "metadata": {},
   "outputs": [],
   "source": [
    "import numpy as np\n",
    "import pandas as pd\n",
    "import time\n",
    "import os"
   ]
  },
  {
   "cell_type": "markdown",
   "metadata": {},
   "source": [
    "## Utils"
   ]
  },
  {
   "cell_type": "code",
   "execution_count": 12,
   "metadata": {},
   "outputs": [],
   "source": [
    "def read_file(filename: str):\n",
    "    with open(filename) as file:\n",
    "        data = file.readlines()\n",
    "\n",
    "        max_slices = int(data[0].replace('\\n', '').split(' ')[0])\n",
    "        nb_diff_pizzas = int(data[0].replace('\\n', '').split(' ')[1])\n",
    "\n",
    "        pizza_slices = data[1].replace('\\n', '').split(' ')\n",
    "\n",
    "        pizza_slices_per_type = []\n",
    "        for nb_slices in pizza_slices:\n",
    "            pizza_slices_per_type.append(int(nb_slices))\n",
    "\n",
    "        print(max_slices)\n",
    "        print(nb_diff_pizzas)\n",
    "        print(pizza_slices_per_type)\n",
    "\n",
    "    return max_slices, nb_diff_pizzas, pizza_slices_per_type"
   ]
  },
  {
   "cell_type": "code",
   "execution_count": 4,
   "metadata": {},
   "outputs": [],
   "source": [
    "def create_submission(nb_pizzas: int, pizza_nb_list: list, directory: str, output_file: str) -> None:\n",
    "    filepath = os.path.join(directory, output_file)\n",
    "    with open(filepath, 'w') as file:\n",
    "        file.write(\"{}\\n\".format(nb_pizzas))\n",
    "        for pizza_nb in pizza_nb_list:\n",
    "            file.write(\"{} \".format(pizza_nb))\n",
    "        file.write(\"\\n\")\n",
    "    pass"
   ]
  },
  {
   "cell_type": "markdown",
   "metadata": {},
   "source": [
    "## Counter-like algorithm"
   ]
  },
  {
   "cell_type": "code",
   "execution_count": 16,
   "metadata": {},
   "outputs": [],
   "source": [
    "def solve(nb_slices: int, pizza_list: list):\n",
    "    \n",
    "    if(nb_slices<0):\n",
    "        return False\n",
    "    elif(nb_slices==0):\n",
    "        return True\n",
    "    \n",
    "    if(len(pizza_list) < 1):\n",
    "        return False\n",
    "    elif(len(pizza_list) == 1):\n",
    "        return pizza_list[0] == nb_slices\n",
    "    \n",
    "    for i in range(len(pizza_list)-1, -1, -1):\n",
    "        if (solve(nb_slices - pizza_list[i], pizza_list[:i] + pizza_list[i+1:])):\n",
    "            return True\n",
    "    return False"
   ]
  },
  {
   "cell_type": "code",
   "execution_count": 20,
   "metadata": {},
   "outputs": [
    {
     "name": "stdout",
     "output_type": "stream",
     "text": [
      "17\n",
      "4\n",
      "[2, 5, 6, 8]\n",
      "Running time: 6.604194641113281e-05\n"
     ]
    }
   ],
   "source": [
    "if __name__ == '__main__':\n",
    "    directory = \"data\"\n",
    "\n",
    "    filename = \"a_example.in\"\n",
    "\n",
    "    max_slices, nb_diff_pizzas, pizza_slices_per_type = read_file(os.path.join(directory, filename))\n",
    "\n",
    "    start_time = time.time()\n",
    "    solve(max_slices, pizza_slices_per_type)\n",
    "    print('Running time:', time.time() - start_time)\n",
    "    \n",
    "    output_file = \"submit_1.txt\"\n",
    "\n",
    "    create_submission(3, [0, 2, 3], directory=directory, output_file=output_file)"
   ]
  },
  {
   "cell_type": "code",
   "execution_count": null,
   "metadata": {},
   "outputs": [],
   "source": []
  }
 ],
 "metadata": {
  "kernelspec": {
   "display_name": "Python 3",
   "language": "python",
   "name": "python3"
  },
  "language_info": {
   "codemirror_mode": {
    "name": "ipython",
    "version": 3
   },
   "file_extension": ".py",
   "mimetype": "text/x-python",
   "name": "python",
   "nbconvert_exporter": "python",
   "pygments_lexer": "ipython3",
   "version": "3.7.4"
  }
 },
 "nbformat": 4,
 "nbformat_minor": 2
}
