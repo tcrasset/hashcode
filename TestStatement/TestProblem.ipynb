{
 "cells": [
  {
   "cell_type": "code",
   "execution_count": 18,
   "metadata": {},
   "outputs": [],
   "source": [
    "import numpy as np\n",
    "import pandas as pd\n",
    "import time\n",
    "import os"
   ]
  },
  {
   "cell_type": "markdown",
   "metadata": {},
   "source": [
    "## Utils"
   ]
  },
  {
   "cell_type": "code",
   "execution_count": 21,
   "metadata": {},
   "outputs": [],
   "source": [
    "def read_file(filename: str):\n",
    "    with open(filename) as file:\n",
    "        data = file.readlines()\n",
    "\n",
    "        max_slices = int(data[0].replace('\\n', '').split(' ')[0])\n",
    "        nb_diff_pizzas = int(data[0].replace('\\n', '').split(' ')[1])\n",
    "\n",
    "        pizza_slices = data[1].replace('\\n', '').split(' ')\n",
    "\n",
    "        pizza_slices_per_type = []\n",
    "        for nb_slices in pizza_slices:\n",
    "            pizza_slices_per_type.append(int(nb_slices))\n",
    "\n",
    "    return max_slices, nb_diff_pizzas, pizza_slices_per_type"
   ]
  },
  {
   "cell_type": "code",
   "execution_count": 4,
   "metadata": {},
   "outputs": [],
   "source": [
    "def create_submission(nb_pizzas: int, pizza_nb_list: list, directory: str, output_file: str) -> None:\n",
    "    filepath = os.path.join(directory, output_file)\n",
    "    with open(filepath, 'w') as file:\n",
    "        file.write(\"{}\\n\".format(nb_pizzas))\n",
    "        for pizza_nb in pizza_nb_list:\n",
    "            file.write(\"{} \".format(pizza_nb))\n",
    "        file.write(\"\\n\")\n",
    "    pass"
   ]
  },
  {
   "cell_type": "markdown",
   "metadata": {},
   "source": [
    "## Counter-like algorithm"
   ]
  },
  {
   "cell_type": "code",
   "execution_count": 78,
   "metadata": {},
   "outputs": [],
   "source": [
    "def solve(nb_slices: int, pizza_list: list):\n",
    "    \n",
    "    if(nb_slices<0):\n",
    "        return None\n",
    "    elif(nb_slices==0):\n",
    "        return []\n",
    "    \n",
    "    if(len(pizza_list) < 1):\n",
    "        return None\n",
    "    elif(len(pizza_list) == 1):\n",
    "        if(pizza_list[0] == nb_slices):\n",
    "            return [nb_slices]\n",
    "        return None\n",
    "    \n",
    "    for i in range(len(pizza_list)-1, -1, -1):\n",
    "        solution = solve(nb_slices - pizza_list[i], pizza_list[:i] + pizza_list[i+1:])\n",
    "        if (solution is not None):\n",
    "            solution.append(pizza_list[i])\n",
    "            return solution\n",
    "        \n",
    "    return None"
   ]
  },
  {
   "cell_type": "code",
   "execution_count": 85,
   "metadata": {},
   "outputs": [
    {
     "name": "stdout",
     "output_type": "stream",
     "text": [
      "17\n",
      "None\n",
      "Running time: 0.0004818439483642578\n"
     ]
    }
   ],
   "source": [
    "if __name__ == '__main__':\n",
    "    directory = \"data\"\n",
    "    \n",
    "    filenames = [\"a_example.in\", \"d_quite_big.in\"]\n",
    "    filename = filenames[0]\n",
    "\n",
    "    max_slices, nb_diff_pizzas, pizza_slices_per_type = read_file(os.path.join(directory, filename))\n",
    "\n",
    "    start_time = time.time()\n",
    "    \n",
    "    print(max_slices)\n",
    "    print(np.sum(solve(max_slices, pizza_slices_per_type)))\n",
    "\n",
    "    print('Running time:', time.time() - start_time)\n",
    "    \n",
    "    output_file = \"submit_1.txt\"\n",
    "\n",
    "    create_submission(3, [0, 2, 3], directory=\"submission\", output_file=output_file)"
   ]
  },
  {
   "cell_type": "code",
   "execution_count": 86,
   "metadata": {},
   "outputs": [
    {
     "name": "stdout",
     "output_type": "stream",
     "text": [
      "False\n"
     ]
    }
   ],
   "source": [
    "print([] is None)"
   ]
  },
  {
   "cell_type": "code",
   "execution_count": 73,
   "metadata": {},
   "outputs": [],
   "source": [
    "a = []"
   ]
  },
  {
   "cell_type": "code",
   "execution_count": 74,
   "metadata": {},
   "outputs": [],
   "source": [
    "b = a.append(1)"
   ]
  },
  {
   "cell_type": "code",
   "execution_count": 75,
   "metadata": {},
   "outputs": [],
   "source": [
    "b"
   ]
  },
  {
   "cell_type": "code",
   "execution_count": 77,
   "metadata": {},
   "outputs": [
    {
     "name": "stdout",
     "output_type": "stream",
     "text": [
      "[1]\n"
     ]
    }
   ],
   "source": [
    "print(a)"
   ]
  },
  {
   "cell_type": "code",
   "execution_count": null,
   "metadata": {},
   "outputs": [],
   "source": []
  }
 ],
 "metadata": {
  "kernelspec": {
   "display_name": "Python 3",
   "language": "python",
   "name": "python3"
  },
  "language_info": {
   "codemirror_mode": {
    "name": "ipython",
    "version": 3
   },
   "file_extension": ".py",
   "mimetype": "text/x-python",
   "name": "python",
   "nbconvert_exporter": "python",
   "pygments_lexer": "ipython3",
   "version": "3.7.4"
  }
 },
 "nbformat": 4,
 "nbformat_minor": 2
}
